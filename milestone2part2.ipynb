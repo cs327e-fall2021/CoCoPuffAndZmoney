{
 "cells": [
  {
   "cell_type": "code",
   "execution_count": 2,
   "id": "5535c925-8b16-4931-9b51-b6ad4672c686",
   "metadata": {},
   "outputs": [],
   "source": [
    "import csv"
   ]
  },
  {
   "cell_type": "code",
   "execution_count": 5,
   "id": "36196c16-936a-4fec-bcb8-0e704f976255",
   "metadata": {},
   "outputs": [
    {
     "name": "stdout",
     "output_type": "stream",
     "text": [
      "Requirement already satisfied: mysql-connector-python in /opt/conda/lib/python3.7/site-packages (8.0.27)\n",
      "Requirement already satisfied: protobuf>=3.0.0 in /opt/conda/lib/python3.7/site-packages (from mysql-connector-python) (3.19.1)\n",
      "Note: you may need to restart the kernel to use updated packages.\n"
     ]
    }
   ],
   "source": [
    " pip install mysql-connector-python"
   ]
  },
  {
   "cell_type": "code",
   "execution_count": 3,
   "id": "95293dcf-ff40-4288-b99d-62fe7fecc95f",
   "metadata": {},
   "outputs": [
    {
     "name": "stdout",
     "output_type": "stream",
     "text": [
      "env: INSTANCE=final-project\n"
     ]
    }
   ],
   "source": [
    "%env INSTANCE = final-project"
   ]
  },
  {
   "cell_type": "code",
   "execution_count": 5,
   "id": "924e8832-8e53-4e6f-8b49-4b7293a8e722",
   "metadata": {},
   "outputs": [],
   "source": [
    "!mysql < /home/jupyter/create_table.sql"
   ]
  },
  {
   "cell_type": "code",
   "execution_count": 6,
   "id": "57589846-1d28-4b99-8786-778ffd0fdcb9",
   "metadata": {},
   "outputs": [
    {
     "name": "stdout",
     "output_type": "stream",
     "text": [
      "+----------+\n",
      "| count(*) |\n",
      "+----------+\n",
      "|        0 |\n",
      "+----------+\n"
     ]
    }
   ],
   "source": [
    "!mysql load_testing -e \"select count(*) from Person\""
   ]
  },
  {
   "cell_type": "code",
   "execution_count": 7,
   "id": "6ddc4c97-653b-477c-abe5-5a587665a030",
   "metadata": {},
   "outputs": [],
   "source": [
    "!mysql load_testing -e \"ALTER TABLE Person AUTO_INCREMENT = 1\""
   ]
  },
  {
   "cell_type": "markdown",
   "id": "e643ccfa-1d4d-49de-a8e3-421df9959678",
   "metadata": {},
   "source": [
    "## Running with upgraded CPU and RAM"
   ]
  },
  {
   "cell_type": "code",
   "execution_count": 8,
   "id": "cb31326f-aa23-434d-8fa0-7970bdcd0574",
   "metadata": {},
   "outputs": [
    {
     "name": "stdout",
     "output_type": "stream",
     "text": [
      "500000 Record inserted successfully into Person table\n",
      "1000000 Record inserted successfully into Person table\n",
      "MySQL connection is closed\n",
      "500000 Record inserted successfully into Person table\n",
      "1000000 Record inserted successfully into Person table\n",
      "MySQL connection is closed\n",
      "500000 Record inserted successfully into Person table\n",
      "1000000 Record inserted successfully into Person table\n",
      "MySQL connection is closed\n",
      "500000 Record inserted successfully into Person table\n",
      "1000000 Record inserted successfully into Person table\n",
      "MySQL connection is closed\n",
      "500000 Record inserted successfully into Person table\n",
      "1000000 Record inserted successfully into Person table\n",
      "MySQL connection is closed\n",
      "500000 Record inserted successfully into Person table\n",
      "1000000 Record inserted successfully into Person table\n",
      "MySQL connection is closed\n",
      "500000 Record inserted successfully into Person table\n",
      "1000000 Record inserted successfully into Person table\n",
      "MySQL connection is closed\n",
      "500000 Record inserted successfully into Person table\n",
      "1000000 Record inserted successfully into Person table\n",
      "MySQL connection is closed\n",
      "33.4 s ± 326 ms per loop (mean ± std. dev. of 7 runs, 1 loop each)\n"
     ]
    }
   ],
   "source": [
    "%%timeit\n",
    "import mysql.connector\n",
    "\n",
    "connection = mysql.connector.connect(\n",
    "  host=\"10.128.0.5\",\n",
    "  user=\"root\",\n",
    "  password=\"12345\",\n",
    "  database=\"load_testing\",\n",
    "  autocommit=False\n",
    ")\n",
    "\n",
    "#\n",
    "\n",
    "file = open('us-1000000.csv')\n",
    "csvreader = csv.reader(file)\n",
    "header = []\n",
    "header = next(csvreader)\n",
    "batch = [] \n",
    "\n",
    "insert_stmt = (\n",
    "  \"INSERT INTO Person ( first_name, last_name, company, addresss, city, county, state, postal_code, phone_1, phone_2, email, web) \"\n",
    "  \"VALUES (%s, %s, %s, %s, %s, %s, %s, %s, %s, %s, %s, %s )\"\n",
    ")\n",
    "counter = 0 \n",
    "cursor = connection.cursor()\n",
    "\n",
    "for row in csvreader:\n",
    "            batch.append(row)\n",
    "            counter += 1\n",
    "        \n",
    "            if len(batch) == 500000:\n",
    "                \n",
    "                try:\n",
    "                    cursor.executemany(insert_stmt, batch)\n",
    "                    connection.commit()\n",
    "                    print(counter, \"Record inserted successfully into Person table\")\n",
    "                    batch = [] \n",
    "    \n",
    "                except mysql.connector.Error as error:\n",
    "                            print(\"Failed to insert record into Person table {}\".format(error))\n",
    "\n",
    "                finally:\n",
    "                    if counter == 1000000:\n",
    "                        if connection.is_connected():\n",
    "                                connection.close()\n",
    "                                print(\"MySQL connection is closed\")\n",
    "               \n",
    "file.close()"
   ]
  },
  {
   "cell_type": "code",
   "execution_count": 9,
   "id": "72008717-078b-4bcc-8a9b-2efe8ed042ed",
   "metadata": {},
   "outputs": [
    {
     "name": "stdout",
     "output_type": "stream",
     "text": [
      "+----------+\n",
      "| count(*) |\n",
      "+----------+\n",
      "|  8000000 |\n",
      "+----------+\n"
     ]
    }
   ],
   "source": [
    "!mysql load_testing -e \"select count(*) from Person\""
   ]
  },
  {
   "cell_type": "code",
   "execution_count": 11,
   "id": "17382ee7-51a0-44c0-a16c-8a6f93e8fb5e",
   "metadata": {},
   "outputs": [
    {
     "name": "stdout",
     "output_type": "stream",
     "text": [
      "env: INSTANCE=final-project-high-bw\n"
     ]
    }
   ],
   "source": [
    "%env INSTANCE = final-project-high-bw"
   ]
  },
  {
   "cell_type": "code",
   "execution_count": 13,
   "id": "e18d5a21-3d0b-4ba2-8f86-8d3849e6c8a7",
   "metadata": {},
   "outputs": [],
   "source": [
    "!mysql < /home/jupyter/create_table.sql"
   ]
  },
  {
   "cell_type": "code",
   "execution_count": 14,
   "id": "e5f10c4e-acbb-4f10-888e-ffadc2d678e4",
   "metadata": {},
   "outputs": [
    {
     "name": "stdout",
     "output_type": "stream",
     "text": [
      "+----------+\n",
      "| count(*) |\n",
      "+----------+\n",
      "|        0 |\n",
      "+----------+\n"
     ]
    }
   ],
   "source": [
    "!mysql load_testing -e \"select count(*) from Person\""
   ]
  },
  {
   "cell_type": "code",
   "execution_count": 15,
   "id": "e6015c24-481b-4fa5-9ee0-1a6f29fce172",
   "metadata": {},
   "outputs": [],
   "source": [
    "!mysql load_testing -e \"ALTER TABLE Person AUTO_INCREMENT = 1\""
   ]
  },
  {
   "cell_type": "markdown",
   "id": "a325719e-72b4-4008-a3c3-21ded7090ec2",
   "metadata": {},
   "source": [
    "## Running with high network bandwidth"
   ]
  },
  {
   "cell_type": "code",
   "execution_count": 17,
   "id": "5d8f8ddc-272f-4754-a7a6-3c6891cf1d42",
   "metadata": {},
   "outputs": [
    {
     "name": "stdout",
     "output_type": "stream",
     "text": [
      "500000 Record inserted successfully into Person table\n",
      "1000000 Record inserted successfully into Person table\n",
      "MySQL connection is closed\n",
      "500000 Record inserted successfully into Person table\n",
      "1000000 Record inserted successfully into Person table\n",
      "MySQL connection is closed\n",
      "500000 Record inserted successfully into Person table\n",
      "1000000 Record inserted successfully into Person table\n",
      "MySQL connection is closed\n",
      "500000 Record inserted successfully into Person table\n",
      "1000000 Record inserted successfully into Person table\n",
      "MySQL connection is closed\n",
      "500000 Record inserted successfully into Person table\n",
      "1000000 Record inserted successfully into Person table\n",
      "MySQL connection is closed\n",
      "500000 Record inserted successfully into Person table\n",
      "1000000 Record inserted successfully into Person table\n",
      "MySQL connection is closed\n",
      "500000 Record inserted successfully into Person table\n",
      "1000000 Record inserted successfully into Person table\n",
      "MySQL connection is closed\n",
      "500000 Record inserted successfully into Person table\n",
      "1000000 Record inserted successfully into Person table\n",
      "MySQL connection is closed\n",
      "40.7 s ± 345 ms per loop (mean ± std. dev. of 7 runs, 1 loop each)\n"
     ]
    }
   ],
   "source": [
    "%%timeit\n",
    "import mysql.connector\n",
    "\n",
    "connection = mysql.connector.connect(\n",
    "  host=\"10.128.0.7\",\n",
    "  user=\"root\",\n",
    "  password=\"12345\",\n",
    "  database=\"load_testing\",\n",
    "  autocommit=False\n",
    ")\n",
    "\n",
    "#\n",
    "\n",
    "file = open('us-1000000.csv')\n",
    "csvreader = csv.reader(file)\n",
    "header = []\n",
    "header = next(csvreader)\n",
    "batch = [] \n",
    "\n",
    "insert_stmt = (\n",
    "  \"INSERT INTO Person ( first_name, last_name, company, addresss, city, county, state, postal_code, phone_1, phone_2, email, web) \"\n",
    "  \"VALUES (%s, %s, %s, %s, %s, %s, %s, %s, %s, %s, %s, %s )\"\n",
    ")\n",
    "counter = 0 \n",
    "cursor = connection.cursor()\n",
    "\n",
    "for row in csvreader:\n",
    "            batch.append(row)\n",
    "            counter += 1\n",
    "        \n",
    "            if len(batch) == 500000:\n",
    "                \n",
    "                try:\n",
    "                    cursor.executemany(insert_stmt, batch)\n",
    "                    connection.commit()\n",
    "                    print(counter, \"Record inserted successfully into Person table\")\n",
    "                    batch = [] \n",
    "    \n",
    "                except mysql.connector.Error as error:\n",
    "                            print(\"Failed to insert record into Person table {}\".format(error))\n",
    "\n",
    "                finally:\n",
    "                    if counter == 1000000:\n",
    "                        if connection.is_connected():\n",
    "                                connection.close()\n",
    "                                print(\"MySQL connection is closed\")\n",
    "               \n",
    "file.close()"
   ]
  },
  {
   "cell_type": "code",
   "execution_count": 1,
   "id": "ba3269bc-0f39-4578-abda-4c8106db16d8",
   "metadata": {},
   "outputs": [
    {
     "name": "stdout",
     "output_type": "stream",
     "text": [
      "^C\n"
     ]
    }
   ],
   "source": [
    "!mysql load_testing -e \"select count(*) from Person\""
   ]
  }
 ],
 "metadata": {
  "environment": {
   "kernel": "python3",
   "name": "common-cpu.m87",
   "type": "gcloud",
   "uri": "gcr.io/deeplearning-platform-release/base-cpu:m87"
  },
  "kernelspec": {
   "display_name": "Python 3",
   "language": "python",
   "name": "python3"
  },
  "language_info": {
   "codemirror_mode": {
    "name": "ipython",
    "version": 3
   },
   "file_extension": ".py",
   "mimetype": "text/x-python",
   "name": "python",
   "nbconvert_exporter": "python",
   "pygments_lexer": "ipython3",
   "version": "3.7.12"
  }
 },
 "nbformat": 4,
 "nbformat_minor": 5
}
