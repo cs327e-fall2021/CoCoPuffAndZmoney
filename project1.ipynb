{
 "cells": [
  {
   "cell_type": "code",
   "execution_count": 106,
   "id": "740ccdae",
   "metadata": {},
   "outputs": [
    {
     "name": "stdout",
     "output_type": "stream",
     "text": [
      "env: INSTANCE=my-sql\n"
     ]
    }
   ],
   "source": [
    "%env INSTANCE = my-sql"
   ]
  },
  {
   "cell_type": "code",
   "execution_count": 107,
   "id": "265ad152",
   "metadata": {},
   "outputs": [],
   "source": [
    "!mysql < /home/jupyter/sakila/sakila-database.sql"
   ]
  },
  {
   "cell_type": "code",
   "execution_count": 109,
   "id": "c17b6ff9",
   "metadata": {},
   "outputs": [
    {
     "name": "stdout",
     "output_type": "stream",
     "text": [
      "ERROR 1062 (23000) at line 44: Duplicate entry '1' for key 'PRIMARY'\n"
     ]
    }
   ],
   "source": [
    "!mysql < /home/jupyter/sakila/sakila-data.sql"
   ]
  },
  {
   "cell_type": "code",
   "execution_count": 31,
   "id": "03858f58",
   "metadata": {},
   "outputs": [
    {
     "name": "stdout",
     "output_type": "stream",
     "text": [
      "+----------+\n",
      "| count(*) |\n",
      "+----------+\n",
      "|      200 |\n",
      "+----------+\n"
     ]
    }
   ],
   "source": [
    "!mysql sakila -e \"select count(*) from actor\""
   ]
  },
  {
   "cell_type": "code",
   "execution_count": 32,
   "id": "2912e3ab",
   "metadata": {
    "collapsed": true,
    "jupyter": {
     "outputs_hidden": true
    }
   },
   "outputs": [
    {
     "name": "stdout",
     "output_type": "stream",
     "text": [
      "+----------+\n",
      "| count(*) |\n",
      "+----------+\n",
      "|      200 |\n",
      "+----------+\n"
     ]
    }
   ],
   "source": [
    "!mysql sakila -e \"select count(*) from actor_info\""
   ]
  },
  {
   "cell_type": "code",
   "execution_count": 33,
   "id": "baf932a4",
   "metadata": {
    "collapsed": true,
    "jupyter": {
     "outputs_hidden": true
    }
   },
   "outputs": [
    {
     "name": "stdout",
     "output_type": "stream",
     "text": [
      "+----------+\n",
      "| count(*) |\n",
      "+----------+\n",
      "|      603 |\n",
      "+----------+\n"
     ]
    }
   ],
   "source": [
    "!mysql sakila -e \"select count(*) from address\"\n"
   ]
  },
  {
   "cell_type": "code",
   "execution_count": 54,
   "id": "3b20841d",
   "metadata": {},
   "outputs": [
    {
     "name": "stdout",
     "output_type": "stream",
     "text": [
      "+----------+\n",
      "| count(*) |\n",
      "+----------+\n",
      "|       16 |\n",
      "+----------+\n"
     ]
    }
   ],
   "source": [
    "!mysql sakila -e \"select count(*) from category\""
   ]
  },
  {
   "cell_type": "code",
   "execution_count": 55,
   "id": "c8ecc36a",
   "metadata": {},
   "outputs": [
    {
     "name": "stdout",
     "output_type": "stream",
     "text": [
      "+----------+\n",
      "| count(*) |\n",
      "+----------+\n",
      "|      600 |\n",
      "+----------+\n"
     ]
    }
   ],
   "source": [
    "!mysql sakila -e \"select count(*) from city\""
   ]
  },
  {
   "cell_type": "code",
   "execution_count": 56,
   "id": "a57b6801",
   "metadata": {},
   "outputs": [
    {
     "name": "stdout",
     "output_type": "stream",
     "text": [
      "+----------+\n",
      "| count(*) |\n",
      "+----------+\n",
      "|      109 |\n",
      "+----------+\n"
     ]
    }
   ],
   "source": [
    "!mysql sakila -e \"select count(*) from country\""
   ]
  },
  {
   "cell_type": "code",
   "execution_count": 57,
   "id": "6c753488",
   "metadata": {},
   "outputs": [
    {
     "name": "stdout",
     "output_type": "stream",
     "text": [
      "+----------+\n",
      "| count(*) |\n",
      "+----------+\n",
      "|      599 |\n",
      "+----------+\n"
     ]
    }
   ],
   "source": [
    "!mysql sakila -e \"select count(*) from customer\""
   ]
  },
  {
   "cell_type": "code",
   "execution_count": 58,
   "id": "d02a8a54",
   "metadata": {},
   "outputs": [
    {
     "name": "stdout",
     "output_type": "stream",
     "text": [
      "+----------+\n",
      "| count(*) |\n",
      "+----------+\n",
      "|      599 |\n",
      "+----------+\n"
     ]
    }
   ],
   "source": [
    "!mysql sakila -e \"select count(*) from customer_list\""
   ]
  },
  {
   "cell_type": "code",
   "execution_count": 59,
   "id": "bdefbc2f",
   "metadata": {},
   "outputs": [
    {
     "name": "stdout",
     "output_type": "stream",
     "text": [
      "+----------+\n",
      "| count(*) |\n",
      "+----------+\n",
      "|     1000 |\n",
      "+----------+\n"
     ]
    }
   ],
   "source": [
    "!mysql sakila -e \"select count(*) from film\""
   ]
  },
  {
   "cell_type": "code",
   "execution_count": 60,
   "id": "63694288",
   "metadata": {},
   "outputs": [
    {
     "name": "stdout",
     "output_type": "stream",
     "text": [
      "+----------+\n",
      "| count(*) |\n",
      "+----------+\n",
      "|     5462 |\n",
      "+----------+\n"
     ]
    }
   ],
   "source": [
    "!mysql sakila -e \"select count(*) from film_actor\""
   ]
  },
  {
   "cell_type": "code",
   "execution_count": 61,
   "id": "1a4fa5c0",
   "metadata": {},
   "outputs": [
    {
     "name": "stdout",
     "output_type": "stream",
     "text": [
      "+----------+\n",
      "| count(*) |\n",
      "+----------+\n",
      "|     1000 |\n",
      "+----------+\n"
     ]
    }
   ],
   "source": [
    "!mysql sakila -e \"select count(*) from film_category\""
   ]
  },
  {
   "cell_type": "code",
   "execution_count": 62,
   "id": "47fb3e13",
   "metadata": {},
   "outputs": [
    {
     "name": "stdout",
     "output_type": "stream",
     "text": [
      "+----------+\n",
      "| count(*) |\n",
      "+----------+\n",
      "|      997 |\n",
      "+----------+\n"
     ]
    }
   ],
   "source": [
    "!mysql sakila -e \"select count(*) from film_list\""
   ]
  },
  {
   "cell_type": "code",
   "execution_count": 63,
   "id": "b3b1f77d",
   "metadata": {},
   "outputs": [
    {
     "name": "stdout",
     "output_type": "stream",
     "text": [
      "+----------+\n",
      "| count(*) |\n",
      "+----------+\n",
      "|     1000 |\n",
      "+----------+\n"
     ]
    }
   ],
   "source": [
    "!mysql sakila -e \"select count(*) from film_text\""
   ]
  },
  {
   "cell_type": "code",
   "execution_count": 64,
   "id": "8187d9fb",
   "metadata": {},
   "outputs": [
    {
     "name": "stdout",
     "output_type": "stream",
     "text": [
      "+----------+\n",
      "| count(*) |\n",
      "+----------+\n",
      "|     4581 |\n",
      "+----------+\n"
     ]
    }
   ],
   "source": [
    "!mysql sakila -e \"select count(*) from inventory\""
   ]
  },
  {
   "cell_type": "code",
   "execution_count": 65,
   "id": "b567aa38",
   "metadata": {},
   "outputs": [
    {
     "name": "stdout",
     "output_type": "stream",
     "text": [
      "+----------+\n",
      "| count(*) |\n",
      "+----------+\n",
      "|        6 |\n",
      "+----------+\n"
     ]
    }
   ],
   "source": [
    "!mysql sakila -e \"select count(*) from language\""
   ]
  },
  {
   "cell_type": "code",
   "execution_count": 66,
   "id": "5c3b1d8c",
   "metadata": {},
   "outputs": [
    {
     "name": "stdout",
     "output_type": "stream",
     "text": [
      "+----------+\n",
      "| count(*) |\n",
      "+----------+\n",
      "|      997 |\n",
      "+----------+\n"
     ]
    }
   ],
   "source": [
    "!mysql sakila -e \"select count(*) from nicer_but_slower_film_list\""
   ]
  },
  {
   "cell_type": "code",
   "execution_count": 67,
   "id": "c05c3ae7",
   "metadata": {},
   "outputs": [
    {
     "name": "stdout",
     "output_type": "stream",
     "text": [
      "+----------+\n",
      "| count(*) |\n",
      "+----------+\n",
      "|    16049 |\n",
      "+----------+\n"
     ]
    }
   ],
   "source": [
    "!mysql sakila -e \"select count(*) from payment\""
   ]
  },
  {
   "cell_type": "code",
   "execution_count": 68,
   "id": "22951c8c",
   "metadata": {},
   "outputs": [
    {
     "name": "stdout",
     "output_type": "stream",
     "text": [
      "+----------+\n",
      "| count(*) |\n",
      "+----------+\n",
      "|    16044 |\n",
      "+----------+\n"
     ]
    }
   ],
   "source": [
    "!mysql sakila -e \"select count(*) from rental\""
   ]
  },
  {
   "cell_type": "code",
   "execution_count": 69,
   "id": "b21c0839",
   "metadata": {},
   "outputs": [
    {
     "name": "stdout",
     "output_type": "stream",
     "text": [
      "ERROR 1146 (42S02) at line 1: Table 'sakila.sales_by_film_catergory' doesn't exist\n"
     ]
    }
   ],
   "source": [
    "!mysql sakila -e \"select count(*) from sales_by_film_catergory\""
   ]
  },
  {
   "cell_type": "code",
   "execution_count": 70,
   "id": "7bb68b8b",
   "metadata": {},
   "outputs": [
    {
     "name": "stdout",
     "output_type": "stream",
     "text": [
      "+----------+\n",
      "| count(*) |\n",
      "+----------+\n",
      "|        2 |\n",
      "+----------+\n"
     ]
    }
   ],
   "source": [
    "!mysql sakila -e \"select count(*) from sales_by_store\""
   ]
  },
  {
   "cell_type": "code",
   "execution_count": 71,
   "id": "bd8f6e30",
   "metadata": {},
   "outputs": [
    {
     "name": "stdout",
     "output_type": "stream",
     "text": [
      "+----------+\n",
      "| count(*) |\n",
      "+----------+\n",
      "|        2 |\n",
      "+----------+\n"
     ]
    }
   ],
   "source": [
    "!mysql sakila -e \"select count(*) from staff\""
   ]
  },
  {
   "cell_type": "code",
   "execution_count": 72,
   "id": "39908ad5",
   "metadata": {},
   "outputs": [
    {
     "name": "stdout",
     "output_type": "stream",
     "text": [
      "+----------+\n",
      "| count(*) |\n",
      "+----------+\n",
      "|        2 |\n",
      "+----------+\n"
     ]
    }
   ],
   "source": [
    "!mysql sakila -e \"select count(*) from staff_list\""
   ]
  },
  {
   "cell_type": "code",
   "execution_count": 73,
   "id": "f421d863",
   "metadata": {},
   "outputs": [
    {
     "name": "stdout",
     "output_type": "stream",
     "text": [
      "+----------+\n",
      "| count(*) |\n",
      "+----------+\n",
      "|        2 |\n",
      "+----------+\n"
     ]
    }
   ],
   "source": [
    "!mysql sakila -e \"select count(*) from store\""
   ]
  },
  {
   "cell_type": "code",
   "execution_count": 74,
   "id": "6d8b847b",
   "metadata": {},
   "outputs": [
    {
     "name": "stdout",
     "output_type": "stream",
     "text": [
      "+----------+------------+--------------+---------------------+\n",
      "| actor_id | first_name | last_name    | last_update         |\n",
      "+----------+------------+--------------+---------------------+\n",
      "|        1 | PENELOPE   | GUINESS      | 2006-02-15 04:34:33 |\n",
      "|        2 | NICK       | WAHLBERG     | 2006-02-15 04:34:33 |\n",
      "|        3 | ED         | CHASE        | 2006-02-15 04:34:33 |\n",
      "|        4 | JENNIFER   | DAVIS        | 2006-02-15 04:34:33 |\n",
      "|        5 | JOHNNY     | LOLLOBRIGIDA | 2006-02-15 04:34:33 |\n",
      "+----------+------------+--------------+---------------------+\n"
     ]
    }
   ],
   "source": [
    "!mysql sakila -e \"select * from actor limit 5\""
   ]
  },
  {
   "cell_type": "code",
   "execution_count": 80,
   "id": "accb1b07",
   "metadata": {
    "collapsed": true,
    "jupyter": {
     "outputs_hidden": true
    }
   },
   "outputs": [
    {
     "name": "stdout",
     "output_type": "stream",
     "text": [
      "+----------+------------+--------------+------------------------------------------------------------------------------------------------------------------------------------------------------------------------------------------------------------------------------------------------------------------------------------------------------------------------------------------------------------------------------------------------------------------------------------------------------------------------------------------------------------------------------------------------------------------------------------------------------------------------+\n",
      "| actor_id | first_name | last_name    | film_info                                                                                                                                                                                                                                                                                                                                                                                                                                                                                                                                                                                                              |\n",
      "+----------+------------+--------------+------------------------------------------------------------------------------------------------------------------------------------------------------------------------------------------------------------------------------------------------------------------------------------------------------------------------------------------------------------------------------------------------------------------------------------------------------------------------------------------------------------------------------------------------------------------------------------------------------------------------+\n",
      "|        1 | PENELOPE   | GUINESS      | Animation: ANACONDA CONFESSIONS; Children: LANGUAGE COWBOY; Classics: COLOR PHILADELPHIA, WESTWARD SEABISCUIT; Comedy: VERTIGO NORTHWEST; Documentary: ACADEMY DINOSAUR; Family: KING EVOLUTION, SPLASH GUMP; Foreign: MULHOLLAND BEAST; Games: BULWORTH COMMANDMENTS, HUMAN GRAFFITI; Horror: ELEPHANT TROJAN, LADY STAGE, RULES HUMAN; Music: WIZARD COLDBLOODED; New: ANGELS LIFE, OKLAHOMA JUMANJI; Sci-Fi: CHEAPER CLYDE; Sports: GLEAMING JAWBREAKER                                                                                                                                                             |\n",
      "|        2 | NICK       | WAHLBERG     | Action: BULL SHAWSHANK; Animation: FIGHT JAWBREAKER; Children: JERSEY SASSY; Classics: DRACULA CRYSTAL, GILBERT PELICAN; Comedy: MALLRATS UNITED, RUSHMORE MERMAID; Documentary: ADAPTATION HOLES; Drama: WARDROBE PHANTOM; Family: APACHE DIVINE, CHISUM BEHAVIOR, INDIAN LOVE, MAGUIRE APACHE; Foreign: BABY HALL, HAPPINESS UNITED; Games: ROOF CHAMPION; Music: LUCKY FLYING; New: DESTINY SATURDAY, FLASH WARS, JEKYLL FROGMEN, MASK PEACH; Sci-Fi: CHAINSAW UPTOWN, GOODFELLAS SALUTE; Travel: LIAISONS SWEET, SMILE EARRING                                                                                     |\n",
      "|        3 | ED         | CHASE        | Action: CADDYSHACK JEDI, FORREST SONS; Classics: FROST HEAD, JEEPERS WEDDING; Documentary: ARMY FLINTSTONES, FRENCH HOLIDAY, HALLOWEEN NUTS, HUNTER ALTER, WEDDING APOLLO, YOUNG LANGUAGE; Drama: LUCK OPUS, NECKLACE OUTBREAK, SPICE SORORITY; Foreign: COWBOY DOOM, WHALE BIKINI; Music: ALONE TRIP; New: EVE RESURRECTION, PLATOON INSTINCT; Sci-Fi: WEEKEND PERSONAL; Sports: ARTIST COLDBLOODED, IMAGE PRINCESS; Travel: BOONDOCK BALLROOM                                                                                                                                                                        |\n",
      "|        4 | JENNIFER   | DAVIS        | Action: BAREFOOT MANCHURIAN; Animation: ANACONDA CONFESSIONS, GHOSTBUSTERS ELF; Comedy: SUBMARINE BED; Documentary: BED HIGHBALL, NATIONAL STORY, RAIDERS ANTITRUST; Drama: BLADE POLISH, GREEDY ROOTS; Family: SPLASH GUMP; Horror: TREASURE COMMAND; Music: HANOVER GALAXY, REDS POCUS; New: ANGELS LIFE, JUMANJI BLADE, OKLAHOMA JUMANJI; Sci-Fi: RANDOM GO, SILVERADO GOLDFINGER, UNFORGIVEN ZOOLANDER; Sports: INSTINCT AIRPORT, POSEIDON FOREVER; Travel: BOONDOCK BALLROOM                                                                                                                                      |\n",
      "|        5 | JOHNNY     | LOLLOBRIGIDA | Action: AMADEUS HOLY, GRAIL FRANKENSTEIN, RINGS HEARTBREAKERS; Animation: SUNRISE LEAGUE; Children: HALL CASSIDY; Comedy: DADDY PITTSBURGH; Documentary: BONNIE HOLOCAUST, METAL ARMAGEDDON, PACIFIC AMISTAD, POCUS PULP; Drama: CHITTY LOCK, CONEHEADS SMOOCHY; Games: FIRE WOLVES; Horror: COMMANDMENTS EXPRESS, LOVE SUICIDES, PATTON INTERVIEW; Music: BANGER PINOCCHIO, HEAVENLY GUN; New: FRONTIER CABIN, RIDGEMONT SUBMARINE; Sci-Fi: DAISY MENAGERIE, GOODFELLAS SALUTE, SOLDIERS EVOLUTION; Sports: GROOVE FICTION, KRAMER CHOCOLATE, STAR OPERATION; Travel: ENOUGH RAGING, ESCAPE METROPOLIS, SMILE EARRING |\n",
      "+----------+------------+--------------+------------------------------------------------------------------------------------------------------------------------------------------------------------------------------------------------------------------------------------------------------------------------------------------------------------------------------------------------------------------------------------------------------------------------------------------------------------------------------------------------------------------------------------------------------------------------------------------------------------------------+\n"
     ]
    }
   ],
   "source": [
    "!mysql sakila -e \"select * from actor_info limit 5\""
   ]
  },
  {
   "cell_type": "code",
   "execution_count": 76,
   "id": "11adb7cb",
   "metadata": {
    "collapsed": true,
    "jupyter": {
     "outputs_hidden": true
    }
   },
   "outputs": [
    {
     "name": "stdout",
     "output_type": "stream",
     "text": [
      "+------------+----------------------+----------+----------+---------+-------------+-------------+---------------------------+---------------------+\n",
      "| address_id | address              | address2 | district | city_id | postal_code | phone       | location                  | last_update         |\n",
      "+------------+----------------------+----------+----------+---------+-------------+-------------+---------------------------+---------------------+\n",
      "|          1 | 47 MySakila Drive    | NULL     | Alberta  |     300 |             |             |     \u0001\u0001   >\n",
      "2]c4\\�v\u001fۍ��H@     | 2014-09-25 22:30:27 |\n",
      "|          2 | 28 MySQL Boulevard   | NULL     | QLD      |     576 |             |             |     \u0001\u0001   �\u0010�߁$c@N��P\"�;�        | 2014-09-25 22:30:09 |\n",
      "|          3 | 23 Workhaven Lane    | NULL     | Alberta  |     300 |             | 14033335568 |     \u0001\u0001   ��\u0019hc4\\�\u001d",
      "�~p��H@       | 2014-09-25 22:30:27 |\n",
      "�4\u001f&c@B֮d\"�;�     | 2014-09-25 22:30:09 |L     | QLD      |     576 |             | 6172235589  |     \u0001\u0001   [\n",
      "|          5 | 1913 Hanoi Way       |          | Nagasaki |     463 | 35200       | 28303384290 |     \u0001\u0001   (�7\u000e!7`@����_�@@       | 2014-09-25 22:31:53 |\n",
      "+------------+----------------------+----------+----------+---------+-------------+-------------+---------------------------+---------------------+\n"
     ]
    }
   ],
   "source": [
    "!mysql sakila -e \"select * from address limit 5\""
   ]
  },
  {
   "cell_type": "code",
   "execution_count": 77,
   "id": "55c28ac0",
   "metadata": {},
   "outputs": [
    {
     "name": "stdout",
     "output_type": "stream",
     "text": [
      "+-------------+-----------+---------------------+\n",
      "| category_id | name      | last_update         |\n",
      "+-------------+-----------+---------------------+\n",
      "|           1 | Action    | 2006-02-15 04:46:27 |\n",
      "|           2 | Animation | 2006-02-15 04:46:27 |\n",
      "|           3 | Children  | 2006-02-15 04:46:27 |\n",
      "|           4 | Classics  | 2006-02-15 04:46:27 |\n",
      "|           5 | Comedy    | 2006-02-15 04:46:27 |\n",
      "+-------------+-----------+---------------------+\n"
     ]
    }
   ],
   "source": [
    "!mysql sakila -e \"select * from category limit 5\""
   ]
  },
  {
   "cell_type": "code",
   "execution_count": 105,
   "id": "dd977f1d",
   "metadata": {},
   "outputs": [],
   "source": [
    "!mysql sakila -e \"select * from city limit 5\""
   ]
  },
  {
   "cell_type": "code",
   "execution_count": null,
   "id": "8691c2ab",
   "metadata": {},
   "outputs": [],
   "source": [
    "!mysql sakila -e \"select * from country limit 5\""
   ]
  },
  {
   "cell_type": "code",
   "execution_count": null,
   "id": "c2a36367",
   "metadata": {},
   "outputs": [],
   "source": [
    "!mysql sakila -e \"select * from customer limit 5\""
   ]
  },
  {
   "cell_type": "code",
   "execution_count": null,
   "id": "02577817",
   "metadata": {},
   "outputs": [],
   "source": [
    "!mysql sakila -e \"select * from customer_list limit 5\""
   ]
  },
  {
   "cell_type": "code",
   "execution_count": null,
   "id": "f84556e0",
   "metadata": {},
   "outputs": [],
   "source": [
    "!mysql sakila -e \"select * from film limit 5\""
   ]
  },
  {
   "cell_type": "code",
   "execution_count": null,
   "id": "4ee3eafd",
   "metadata": {},
   "outputs": [],
   "source": [
    "!mysql sakila -e \"select * from film_actor limit 5\""
   ]
  },
  {
   "cell_type": "code",
   "execution_count": null,
   "id": "d8b1968d",
   "metadata": {},
   "outputs": [],
   "source": [
    "!mysql sakila -e \"select * from film_category limit 5\""
   ]
  },
  {
   "cell_type": "code",
   "execution_count": null,
   "id": "c61519eb",
   "metadata": {},
   "outputs": [],
   "source": [
    "!mysql sakila -e \"select * from film_list limit 5\""
   ]
  },
  {
   "cell_type": "code",
   "execution_count": null,
   "id": "fd35d4dc",
   "metadata": {},
   "outputs": [],
   "source": [
    "!mysql sakila -e \"select * from film_text limit 5\""
   ]
  },
  {
   "cell_type": "code",
   "execution_count": null,
   "id": "2f9b6bb5",
   "metadata": {},
   "outputs": [],
   "source": [
    "!mysql sakila -e \"select * from inventory limit 5\""
   ]
  },
  {
   "cell_type": "code",
   "execution_count": 117,
   "id": "a2e61c46",
   "metadata": {},
   "outputs": [
    {
     "name": "stdout",
     "output_type": "stream",
     "text": [
      "+-------------+----------+---------------------+\n",
      "| language_id | name     | last_update         |\n",
      "+-------------+----------+---------------------+\n",
      "|           1 | English  | 2006-02-15 05:02:19 |\n",
      "|           2 | Italian  | 2006-02-15 05:02:19 |\n",
      "|           3 | Japanese | 2006-02-15 05:02:19 |\n",
      "|           4 | Mandarin | 2006-02-15 05:02:19 |\n",
      "|           5 | French   | 2006-02-15 05:02:19 |\n",
      "+-------------+----------+---------------------+\n"
     ]
    }
   ],
   "source": [
    "!mysql sakila -e \"select * from language limit 5\""
   ]
  },
  {
   "cell_type": "code",
   "execution_count": null,
   "id": "a1ac17e7",
   "metadata": {},
   "outputs": [],
   "source": [
    "!mysql sakila -e \"select * from nicer_but_slower_film_list limit 5\""
   ]
  },
  {
   "cell_type": "code",
   "execution_count": null,
   "id": "501caa23",
   "metadata": {},
   "outputs": [],
   "source": [
    "!mysql sakila -e \"select * from payment limit 5\""
   ]
  },
  {
   "cell_type": "code",
   "execution_count": null,
   "id": "1d985182",
   "metadata": {},
   "outputs": [],
   "source": [
    "!mysql sakila -e \"select * from rental limit 5\""
   ]
  },
  {
   "cell_type": "code",
   "execution_count": null,
   "id": "dd65a930",
   "metadata": {},
   "outputs": [],
   "source": [
    "!mysql sakila -e \"select * from sales_by_film_category limit 5\""
   ]
  },
  {
   "cell_type": "code",
   "execution_count": null,
   "id": "e6c355b1",
   "metadata": {},
   "outputs": [],
   "source": [
    "!mysql sakila -e \"select * from sales_by_store limit 5\""
   ]
  },
  {
   "cell_type": "code",
   "execution_count": null,
   "id": "b6f7cb5e",
   "metadata": {},
   "outputs": [],
   "source": [
    "!mysql sakila -e \"select * from staff limit 5\""
   ]
  },
  {
   "cell_type": "code",
   "execution_count": null,
   "id": "6532f18f",
   "metadata": {},
   "outputs": [],
   "source": [
    "!mysql sakila -e \"select * from staff_list limit 5\""
   ]
  },
  {
   "cell_type": "code",
   "execution_count": null,
   "id": "d86d79da",
   "metadata": {},
   "outputs": [],
   "source": [
    "!mysql sakila -e \"select * from store limit 5\""
   ]
  },
  {
   "cell_type": "code",
   "execution_count": 48,
   "id": "d6c258e9",
   "metadata": {},
   "outputs": [],
   "source": [
    "# This Query gets all cities where the country Id is 44 and orders them by the city name"
   ]
  },
  {
   "cell_type": "code",
   "execution_count": 118,
   "id": "2763d099",
   "metadata": {},
   "outputs": [
    {
     "name": "stdout",
     "output_type": "stream",
     "text": [
      "+-------------------------+\n",
      "| city                    |\n",
      "+-------------------------+\n",
      "| Adoni                   |\n",
      "| Ahmadnagar              |\n",
      "| Allappuzha (Alleppey)   |\n",
      "| Ambattur                |\n",
      "| Amroha                  |\n",
      "| Balurghat               |\n",
      "| Berhampore (Baharampur) |\n",
      "| Bhavnagar               |\n",
      "| Bhilwara                |\n",
      "| Bhimavaram              |\n",
      "| Bhopal                  |\n",
      "| Bhusawal                |\n",
      "| Bijapur                 |\n",
      "| Chandrapur              |\n",
      "| Chapra                  |\n",
      "| Dhule (Dhulia)          |\n",
      "| Etawah                  |\n",
      "| Firozabad               |\n",
      "| Gandhinagar             |\n",
      "| Gulbarga                |\n",
      "| Haldia                  |\n",
      "| Halisahar               |\n",
      "| Hoshiarpur              |\n",
      "| Hubli-Dharwad           |\n",
      "| Jaipur                  |\n",
      "| Jhansi                  |\n",
      "| Jodhpur                 |\n",
      "| Kamarhati               |\n",
      "| Kanchrapara             |\n",
      "| Karnal                  |\n",
      "| Katihar                 |\n",
      "| Kumbakonam              |\n",
      "| Miraj                   |\n",
      "| Munger (Monghyr)        |\n",
      "| Mysore                  |\n",
      "| Nagaon                  |\n",
      "| Palghat (Palakkad)      |\n",
      "| Parbhani                |\n",
      "| Pathankot               |\n",
      "| Patiala                 |\n",
      "| Pudukkottai             |\n",
      "| Pune                    |\n",
      "| Purnea (Purnia)         |\n",
      "| Rae Bareli              |\n",
      "| Rajkot                  |\n",
      "| Rampur                  |\n",
      "| Ranchi                  |\n",
      "| Sambhal                 |\n",
      "| Satna                   |\n",
      "| Shimoga                 |\n",
      "| Shivapuri               |\n",
      "| Siliguri (Shiliguri)    |\n",
      "| Tambaram                |\n",
      "| Udaipur                 |\n",
      "| Uluberia                |\n",
      "| Uttarpara-Kotrung       |\n",
      "| Valparai                |\n",
      "| Varanasi (Benares)      |\n",
      "| Vijayawada              |\n",
      "| Yamuna Nagar            |\n",
      "+-------------------------+\n"
     ]
    }
   ],
   "source": [
    "!mysql sakila -e \"select city from city where country_id = '44' ORDER BY city\""
   ]
  },
  {
   "cell_type": "code",
   "execution_count": null,
   "id": "835fd242",
   "metadata": {},
   "outputs": [],
   "source": [
    "#This query inserts a new record called with the name \"romCom\" in the category table"
   ]
  },
  {
   "cell_type": "code",
   "execution_count": 131,
   "id": "2b0d47a3",
   "metadata": {},
   "outputs": [],
   "source": [
    "!mysql sakila -e \"insert into category (name) values ('romCom')\"  "
   ]
  },
  {
   "cell_type": "code",
   "execution_count": 132,
   "id": "07aeb2d2",
   "metadata": {},
   "outputs": [
    {
     "name": "stdout",
     "output_type": "stream",
     "text": [
      "+-------------+-------------+---------------------+\n",
      "| category_id | name        | last_update         |\n",
      "+-------------+-------------+---------------------+\n",
      "|           1 | Action      | 2006-02-15 04:46:27 |\n",
      "|           2 | Animation   | 2006-02-15 04:46:27 |\n",
      "|           3 | Children    | 2006-02-15 04:46:27 |\n",
      "|           4 | Classics    | 2006-02-15 04:46:27 |\n",
      "|           5 | Comedy      | 2006-02-15 04:46:27 |\n",
      "|           6 | Documentary | 2006-02-15 04:46:27 |\n",
      "|           7 | Drama       | 2006-02-15 04:46:27 |\n",
      "|           8 | Family      | 2006-02-15 04:46:27 |\n",
      "|           9 | Foreign     | 2006-02-15 04:46:27 |\n",
      "|          10 | Games       | 2006-02-15 04:46:27 |\n",
      "|          11 | Horror      | 2006-02-15 04:46:27 |\n",
      "|          12 | Music       | 2006-02-15 04:46:27 |\n",
      "|          13 | New         | 2006-02-15 04:46:27 |\n",
      "|          14 | Sci-Fi      | 2006-02-15 04:46:27 |\n",
      "|          15 | Sports      | 2006-02-15 04:46:27 |\n",
      "|          16 | Travel      | 2006-02-15 04:46:27 |\n",
      "|          21 | romCom      | 2021-09-10 03:14:09 |\n",
      "+-------------+-------------+---------------------+\n"
     ]
    }
   ],
   "source": [
    "!mysql sakila -e \"select * from category\""
   ]
  },
  {
   "cell_type": "code",
   "execution_count": null,
   "id": "d5290735",
   "metadata": {},
   "outputs": [],
   "source": [
    "Write an UPDATE statement to update one or more records from any one of the\n",
    "tables. Add a short comment above your SQL statement to describe the SQL.\n",
    "● Write a DELETE statement to delete one or more records from any one of the\n",
    "tables. Add a short comment above your SQL statement to describe the SQL."
   ]
  },
  {
   "cell_type": "code",
   "execution_count": null,
   "id": "67ca2ef4",
   "metadata": {},
   "outputs": [],
   "source": [
    "#This query updates "
   ]
  },
  {
   "cell_type": "code",
   "execution_count": 115,
   "id": "65d7fb9b",
   "metadata": {},
   "outputs": [],
   "source": [
    "!mysql sakila -e \"update category set name = 'Romantic Comedy' where name ='romCom'\""
   ]
  },
  {
   "cell_type": "code",
   "execution_count": 129,
   "id": "a1771d0a",
   "metadata": {},
   "outputs": [],
   "source": [
    "!mysql sakila -e \"delete from category where name = 'Romantic Comedy' or name = 'romCom'\""
   ]
  },
  {
   "cell_type": "code",
   "execution_count": null,
   "id": "2ffb42ea",
   "metadata": {},
   "outputs": [],
   "source": []
  },
  {
   "cell_type": "code",
   "execution_count": null,
   "id": "e16cce41",
   "metadata": {},
   "outputs": [],
   "source": []
  }
 ],
 "metadata": {
  "environment": {
   "name": "common-cpu.m78",
   "type": "gcloud",
   "uri": "gcr.io/deeplearning-platform-release/base-cpu:m78"
  },
  "kernelspec": {
   "display_name": "Python 3",
   "language": "python",
   "name": "python3"
  },
  "language_info": {
   "codemirror_mode": {
    "name": "ipython",
    "version": 3
   },
   "file_extension": ".py",
   "mimetype": "text/x-python",
   "name": "python",
   "nbconvert_exporter": "python",
   "pygments_lexer": "ipython3",
   "version": "3.7.10"
  }
 },
 "nbformat": 4,
 "nbformat_minor": 5
}
