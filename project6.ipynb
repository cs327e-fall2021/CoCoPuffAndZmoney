{
 "cells": [
  {
   "cell_type": "markdown",
   "id": "506d5ae8",
   "metadata": {},
   "source": [
    "Q1. select count(*)\n",
    "from products;"
   ]
  },
  {
   "cell_type": "code",
   "execution_count": 2,
   "id": "fd544d90",
   "metadata": {},
   "outputs": [
    {
     "name": "stdout",
     "output_type": "stream",
     "text": [
      "309370\n"
     ]
    }
   ],
   "source": [
    "!mongo open_food --quiet --eval 'db.products.count()'"
   ]
  },
  {
   "cell_type": "markdown",
   "id": "dc85da49",
   "metadata": {},
   "source": [
    "Q2. select _id, product_name\n",
    "from products\n",
    "where categories = 'Snacks, Sweet snacks, Confectioneries,\n",
    "Candies, Chews';"
   ]
  },
  {
   "cell_type": "code",
   "execution_count": 9,
   "id": "c718ad2e",
   "metadata": {
    "collapsed": true,
    "jupyter": {
     "outputs_hidden": true
    }
   },
   "outputs": [
    {
     "name": "stdout",
     "output_type": "stream",
     "text": [
      "{\n",
      "\t\"_id\" : \"0009800145010\",\n",
      "\t\"categories\" : \"Snacks\",\n",
      "\t\"product_name\" : \"Almond coconut treat\"\n",
      "}\n",
      "{\n",
      "\t\"_id\" : \"0010300044512\",\n",
      "\t\"categories\" : \"Snacks\",\n",
      "\t\"product_name\" : \"Diamond, shake & spoon, chopped walnut\"\n",
      "}\n",
      "{\n",
      "\t\"_id\" : \"0010300000136\",\n",
      "\t\"categories\" : \"Snacks\",\n",
      "\t\"product_name\" : \"Mixed Nuts\"\n",
      "}\n",
      "{\n",
      "\t\"_id\" : \"0010300048947\",\n",
      "\t\"product_name\" : \"Chopped Walnuts\",\n",
      "\t\"categories\" : \"Snacks\"\n",
      "}\n",
      "{\n",
      "\t\"_id\" : \"0010300065401\",\n",
      "\t\"product_name\" : \"Cashew halves and pieces\",\n",
      "\t\"categories\" : \"Snacks\"\n",
      "}\n",
      "{\n",
      "\t\"_id\" : \"0010300065425\",\n",
      "\t\"categories\" : \"Snacks\",\n",
      "\t\"product_name\" : \"Emerald, salt & pepper cashews\"\n",
      "}\n",
      "{\n",
      "\t\"_id\" : \"0010300106395\",\n",
      "\t\"product_name\" : \"Glazed Pecans\",\n",
      "\t\"categories\" : \"Snacks\"\n",
      "}\n",
      "{\n",
      "\t\"_id\" : \"0010300144328\",\n",
      "\t\"product_name\" : \"Chopped Pecans\",\n",
      "\t\"categories\" : \"Snacks\"\n",
      "}\n",
      "{\n",
      "\t\"_id\" : \"0010300930648\",\n",
      "\t\"product_name\" : \"Salty sweet mixed nuts\",\n",
      "\t\"categories\" : \"Snacks\"\n",
      "}\n",
      "{\n",
      "\t\"_id\" : \"0010300930747\",\n",
      "\t\"categories\" : \"Snacks\",\n",
      "\t\"product_name\" : \"Emerald, salty sweet cinnamon sugar\"\n",
      "}\n",
      "{\n",
      "\t\"_id\" : \"0010300933656\",\n",
      "\t\"product_name\" : \"Emerald, flavored cashews, dill pickle\",\n",
      "\t\"categories\" : \"Snacks\"\n",
      "}\n",
      "{\n",
      "\t\"_id\" : \"0010300933670\",\n",
      "\t\"categories\" : \"Snacks\",\n",
      "\t\"product_name\" : \"Emerald, sriracha cashews\"\n",
      "}\n",
      "{\n",
      "\t\"_id\" : \"0010300933816\",\n",
      "\t\"product_name\" : \"Honey glazed cashews\",\n",
      "\t\"categories\" : \"Snacks\"\n",
      "}\n",
      "{\n",
      "\t\"_id\" : \"0010300940111\",\n",
      "\t\"product_name\" : \"Cashews, roasted & salted\",\n",
      "\t\"categories\" : \"Snacks\"\n",
      "}\n",
      "{\n",
      "\t\"_id\" : \"0010300942139\",\n",
      "\t\"categories\" : \"Snacks\",\n",
      "\t\"product_name\" : \"Virginia peanuts\"\n",
      "}\n",
      "{\n",
      "\t\"_id\" : \"0010300942153\",\n",
      "\t\"product_name\" : \"Emerald, spicy virginia peanuts\",\n",
      "\t\"categories\" : \"Snacks\"\n",
      "}\n",
      "{\n",
      "\t\"_id\" : \"0010300942191\",\n",
      "\t\"categories\" : \"Snacks\",\n",
      "\t\"product_name\" : \"Cashews\"\n",
      "}\n",
      "{\n",
      "\t\"_id\" : \"0010300964902\",\n",
      "\t\"categories\" : \"Snacks\",\n",
      "\t\"product_name\" : \"Emerald, nutty bites, cinnamon pecan\"\n",
      "}\n",
      "{\n",
      "\t\"_id\" : \"0011110024688\",\n",
      "\t\"categories\" : \"Snacks\",\n",
      "\t\"product_name\" : \"Simple truth, blanched almonds\"\n",
      "}\n",
      "{\n",
      "\t\"_id\" : \"0011110024718\",\n",
      "\t\"product_name\" : \"Simple truth, pecans halves\",\n",
      "\t\"categories\" : \"Snacks\"\n",
      "}\n",
      "Type \"it\" for more\n"
     ]
    }
   ],
   "source": [
    "!mongo open_food --quiet --eval 'db.products.find({$or: [{categories: \"Snacks\"}, {categroies: \"Sweet snacks\"},  {categroies: \"Confectioneries\"} ,  {categroies: \"Candies\"},  {categroies: \"Chews\"}]}, {_id :1, product_name: 1, categories : 1}).pretty()'"
   ]
  },
  {
   "cell_type": "code",
   "execution_count": 11,
   "id": "b88e38a6",
   "metadata": {},
   "outputs": [
    {
     "data": {
      "text/plain": [
       "'it'"
      ]
     },
     "execution_count": 11,
     "metadata": {},
     "output_type": "execute_result"
    }
   ],
   "source": []
  },
  {
   "cell_type": "markdown",
   "id": "19726520",
   "metadata": {},
   "source": [
    "Q3. select _id, code, product_name\n",
    "from products\n",
    "where last_modified_t >= 1601856000;"
   ]
  },
  {
   "cell_type": "code",
   "execution_count": 12,
   "id": "d1ab983e",
   "metadata": {},
   "outputs": [
    {
     "name": "stdout",
     "output_type": "stream",
     "text": [
      "{\n",
      "\t\"_id\" : \"0852909003299\",\n",
      "\t\"product_name\" : \"Almondmilk\",\n",
      "\t\"code\" : \"0852909003299\"\n",
      "}\n",
      "{\n",
      "\t\"_id\" : \"0840423102055\",\n",
      "\t\"code\" : \"0840423102055\",\n",
      "\t\"product_name\" : \"Garlic wine pasta with chicken meatballs with whole wheat rotini, white beans, and greens, cooked in avocado oil, and topped with parmesan and mozzarella, garlic wine pasta with chicken meatballs\"\n",
      "}\n"
     ]
    }
   ],
   "source": [
    "!mongo open_food --quiet --eval 'db.products.find({last_modified_t: {$gte: 1601856000}},{_id:1, code: 1, product_name: 1}).pretty()'"
   ]
  },
  {
   "cell_type": "markdown",
   "id": "1c48a43d",
   "metadata": {},
   "source": [
    "Q4.select count(*)\n",
    "from products\n",
    "where packaging = 'Plastic';"
   ]
  },
  {
   "cell_type": "code",
   "execution_count": 13,
   "id": "ad588bb4",
   "metadata": {},
   "outputs": [
    {
     "name": "stdout",
     "output_type": "stream",
     "text": [
      "115\n"
     ]
    }
   ],
   "source": [
    "!mongo open_food --quiet --eval 'db.products.count({packaging :\"Plastic\" })'"
   ]
  },
  {
   "cell_type": "markdown",
   "id": "8b31b165",
   "metadata": {},
   "source": [
    "Q5.select _id, code, creator, product_name, brands\n",
    "from products\n",
    "where manufacturing_places = 'Austin, TX'\n",
    "and stores = 'Whole Foods';"
   ]
  },
  {
   "cell_type": "code",
   "execution_count": 16,
   "id": "bbea008e",
   "metadata": {},
   "outputs": [
    {
     "name": "stdout",
     "output_type": "stream",
     "text": [
      "{ \"_id\" : \"0099482455859\", \"brands\" : \"365 Everyday Value,Whole Foods Market  Inc.\", \"code\" : \"0099482455859\", \"product_name\" : \"Whole Wheat Bread\" }\n"
     ]
    }
   ],
   "source": [
    "!mongo open_food --quiet --eval 'db.products.find({manufacturing_places: \"Austin, TX\", stores: \"Whole Foods\"}, {_id : 1, code: 1, product_name: 1, brands: 1})'"
   ]
  },
  {
   "cell_type": "markdown",
   "id": "8e36bb3b",
   "metadata": {},
   "source": [
    "Q6.select _id, creator, product_name, brands\n",
    "from products\n",
    "where brands = 'Trader Joes' and product_name is not null\n",
    "order by product_name;"
   ]
  },
  {
   "cell_type": "code",
   "execution_count": 19,
   "id": "db288f57",
   "metadata": {},
   "outputs": [
    {
     "name": "stdout",
     "output_type": "stream",
     "text": [
      "{ \"_id\" : \"00508285\", \"product_name\" : \"Trader joes, sriracha sauce\", \"brands\" : \"Trader Joes\", \"creator\" : \"usda-ndb-import\" }\n",
      "{ \"_id\" : \"00547352\", \"product_name\" : \"Organic roasted vegetable pizza\", \"creator\" : \"djfkzz\", \"brands\" : \"Trader Joes\" }\n",
      "{ \"_id\" : \"00556903\", \"brands\" : \"Trader Joes\", \"creator\" : \"djfkzz\", \"product_name\" : \"Thai Sweet Chili Veggie Burger\" }\n"
     ]
    }
   ],
   "source": [
    "!mongo open_food --quiet --eval 'db.products.find({brands: \"Trader Joes\", product_name: {$ne : null}}, {_id : 1, creator: 1, product_name: 1, brands: 1})'"
   ]
  },
  {
   "cell_type": "markdown",
   "id": "3a434c66",
   "metadata": {},
   "source": [
    "Q7. select _id, product_name, brands\n",
    "from products\n",
    "where brands in (\"m&m's\", \"mars\", \"Mars\", \"oreo\", \"starburst\")\n",
    "order by product_name\n",
    "limit 5;"
   ]
  },
  {
   "cell_type": "code",
   "execution_count": 23,
   "id": "96f1c879",
   "metadata": {},
   "outputs": [
    {
     "name": "stdout",
     "output_type": "stream",
     "text": [
      "{\n",
      "\t\"_id\" : \"0040000265252\",\n",
      "\t\"brands\" : \"Mars\",\n",
      "\t\"product_name\" : \"Almond & dark chocolate\"\n",
      "}\n",
      "{ \"_id\" : \"0040000422068\", \"brands\" : \"mars\", \"product_name\" : \"BAR\" }\n",
      "{\n",
      "\t\"_id\" : \"0044000029524\",\n",
      "\t\"product_name\" : \"Nabisco oreo cookies double stuf 1x4.1 oz\",\n",
      "\t\"brands\" : \"oreo\"\n",
      "}\n",
      "{\n",
      "\t\"_id\" : \"04005108\",\n",
      "\t\"product_name\" : \"Real fruit juice!\",\n",
      "\t\"brands\" : \"starburst\"\n",
      "}\n",
      "{ \"_id\" : \"04044086\", \"product_name\" : \"Twix\", \"brands\" : \"Mars\" }\n"
     ]
    }
   ],
   "source": [
    "!mongo open_food --quiet --eval 'db.products.find({brands: {$in : [\"m&ms\",\"mars\", \"Mars\",\"oreo\", \"starburst\"]}}, {_id : 1, product_name: 1, brands: 1}).sort({product_name: 1}).limit(5).pretty()'"
   ]
  },
  {
   "cell_type": "markdown",
   "id": "51761ddb",
   "metadata": {},
   "source": [
    "Insert a new document into the products collection. The document must have a\n",
    "minimum of 5 attributes with non-NULL values. Read back the document you just\n",
    "created."
   ]
  },
  {
   "cell_type": "code",
   "execution_count": 24,
   "id": "4c299399",
   "metadata": {},
   "outputs": [
    {
     "name": "stdout",
     "output_type": "stream",
     "text": [
      "WriteResult({ \"nInserted\" : 1 })\n"
     ]
    }
   ],
   "source": [
    "wilt = '{product_name: \"CoCo Puffs\", brands: \"Zmoney\", manufacturing_places: \"Austin, TX\", stores: \"HEB\", packagings: \"Cardboard\"}'\n",
    "!mongo open_food --quiet --eval 'db.products.insert({wilt})'"
   ]
  },
  {
   "cell_type": "code",
   "execution_count": 26,
   "id": "ade246c3",
   "metadata": {},
   "outputs": [
    {
     "name": "stdout",
     "output_type": "stream",
     "text": [
      "{\n",
      "\t\"_id\" : ObjectId(\"6179e6bc608ae09563fd25b7\"),\n",
      "\t\"product_name\" : \"CoCo Puffs\",\n",
      "\t\"brands\" : \"Zmoney\",\n",
      "\t\"manufacturing_places\" : \"Austin, TX\",\n",
      "\t\"stores\" : \"HEB\",\n",
      "\t\"packagings\" : \"Cardboard\"\n",
      "}\n"
     ]
    }
   ],
   "source": [
    "!mongo open_food --quiet --eval 'db.products.find({product_name : \"CoCo Puffs\", brands: \"Zmoney\"}).pretty()'"
   ]
  },
  {
   "cell_type": "markdown",
   "id": "6235cde1",
   "metadata": {},
   "source": [
    "Update the document you created in the previous step and then read it back."
   ]
  },
  {
   "cell_type": "code",
   "execution_count": 34,
   "id": "45862a95",
   "metadata": {},
   "outputs": [
    {
     "name": "stdout",
     "output_type": "stream",
     "text": [
      "WriteResult({ \"nMatched\" : 1, \"nUpserted\" : 0, \"nModified\" : 1 })\n"
     ]
    }
   ],
   "source": [
    "!mongo open_food --quiet --eval 'db.products.update({product_name: \"CoCo Puffs\"}, {$set:{product_name: \"CoCo Puffs\", brands: \"ZmoneyZbaby\"}})'"
   ]
  },
  {
   "cell_type": "code",
   "execution_count": 35,
   "id": "92e3fe64",
   "metadata": {},
   "outputs": [
    {
     "name": "stdout",
     "output_type": "stream",
     "text": [
      "{\n",
      "\t\"_id\" : ObjectId(\"6179e6bc608ae09563fd25b7\"),\n",
      "\t\"product_name\" : \"CoCo Puffs\",\n",
      "\t\"brands\" : \"ZmoneyZbaby\",\n",
      "\t\"manufacturing_places\" : \"Austin, TX\",\n",
      "\t\"stores\" : \"HEB\",\n",
      "\t\"packagings\" : \"Cardboard\"\n",
      "}\n"
     ]
    }
   ],
   "source": [
    "!mongo open_food --quiet --eval 'db.products.find({product_name : \"CoCo Puffs\"}).pretty()'"
   ]
  },
  {
   "cell_type": "markdown",
   "id": "b06ddba4",
   "metadata": {},
   "source": [
    "Delete the document you updated in the previous step and then query the collection to\n",
    "verify that it’s been deleted."
   ]
  },
  {
   "cell_type": "code",
   "execution_count": 36,
   "id": "cfaf2b59",
   "metadata": {},
   "outputs": [
    {
     "name": "stdout",
     "output_type": "stream",
     "text": [
      "WriteResult({ \"nRemoved\" : 1 })\n"
     ]
    }
   ],
   "source": [
    "!mongo open_food --quiet --eval 'db.products.remove({product_name : \"CoCo Puffs\"})'"
   ]
  },
  {
   "cell_type": "code",
   "execution_count": 38,
   "id": "415ac4d1",
   "metadata": {},
   "outputs": [],
   "source": [
    "!mongo open_food --quiet --eval 'db.products.find({product_name : \"CoCo Puffs\"}).pretty()'"
   ]
  },
  {
   "cell_type": "code",
   "execution_count": null,
   "id": "5c7733cd",
   "metadata": {},
   "outputs": [],
   "source": []
  }
 ],
 "metadata": {
  "environment": {
   "name": "common-cpu.m78",
   "type": "gcloud",
   "uri": "gcr.io/deeplearning-platform-release/base-cpu:m78"
  },
  "kernelspec": {
   "display_name": "Python 3",
   "language": "python",
   "name": "python3"
  },
  "language_info": {
   "codemirror_mode": {
    "name": "ipython",
    "version": 3
   },
   "file_extension": ".py",
   "mimetype": "text/x-python",
   "name": "python",
   "nbconvert_exporter": "python",
   "pygments_lexer": "ipython3",
   "version": "3.7.10"
  }
 },
 "nbformat": 4,
 "nbformat_minor": 5
}
