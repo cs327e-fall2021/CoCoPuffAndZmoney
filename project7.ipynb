{
 "cells": [
  {
   "cell_type": "code",
   "execution_count": 7,
   "id": "5c06bded",
   "metadata": {},
   "outputs": [
    {
     "name": "stdout",
     "output_type": "stream",
     "text": [
      "env: CYPHER=/home/jupyter/neo4j-community-4.3.3/bin/cypher-shell\n",
      "env: USER=neo4j\n",
      "env: PW=neo4j\n"
     ]
    }
   ],
   "source": [
    "%env CYPHER=/home/jupyter/neo4j-community-4.3.3/bin/cypher-shell\n",
    "%env USER=neo4j\n",
    "%env PW=neo4j"
   ]
  },
  {
   "cell_type": "code",
   "execution_count": 8,
   "id": "2214d519",
   "metadata": {},
   "outputs": [],
   "source": [
    "CONNECT=\"$CYPHER -u $USER -p $PW\""
   ]
  },
  {
   "cell_type": "code",
   "execution_count": 3,
   "id": "b5aa6fa9",
   "metadata": {},
   "outputs": [
    {
     "name": "stdout",
     "output_type": "stream",
     "text": [
      "0 rows\n",
      "ready to start consuming query after 145 ms, results consumed after another 0 ms\n"
     ]
    }
   ],
   "source": [
    "!$CONNECT \"MATCH (n) DETACH DELETE n\""
   ]
  },
  {
   "cell_type": "code",
   "execution_count": 11,
   "id": "1046a19b",
   "metadata": {},
   "outputs": [
    {
     "name": "stdout",
     "output_type": "stream",
     "text": [
      "COUNT(l)\n",
      "5835\n",
      "COUNT(a)\n",
      "42\n",
      "COUNT(n)\n",
      "41\n",
      "COUNT(h)\n",
      "4633\n",
      "COUNT(u)\n",
      "55917\n",
      "COUNT(r)\n",
      "62976\n"
     ]
    }
   ],
   "source": [
    "!cat /home/jupyter/airbnb/load_data.cypher | {CONNECT} --format plain"
   ]
  },
  {
   "cell_type": "code",
   "execution_count": 12,
   "id": "acd67f9f",
   "metadata": {},
   "outputs": [
    {
     "name": "stdout",
     "output_type": "stream",
     "text": [
      "+----------+\n",
      "| count(n) |\n",
      "+----------+\n",
      "| 129444   |\n",
      "+----------+\n",
      "\n",
      "1 row\n",
      "ready to start consuming query after 10 ms, results consumed after another 0 ms\n"
     ]
    }
   ],
   "source": [
    "!{CONNECT} \"MATCH (n) RETURN count(n)\""
   ]
  },
  {
   "cell_type": "code",
   "execution_count": 10,
   "id": "c70af307",
   "metadata": {},
   "outputs": [
    {
     "name": "stdout",
     "output_type": "stream",
     "text": [
      "+----------------------+\n",
      "| labels(n) | count(n) |\n",
      "+----------------------+\n",
      "+----------------------+\n",
      "\n",
      "0 rows\n",
      "ready to start consuming query after 104 ms, results consumed after another 7 ms\n"
     ]
    }
   ],
   "source": [
    "!{CONNECT} \"MATCH (n) RETURN distinct labels(n), count(n)\""
   ]
  },
  {
   "cell_type": "code",
   "execution_count": 11,
   "id": "4e74c4fa",
   "metadata": {},
   "outputs": [
    {
     "name": "stdout",
     "output_type": "stream",
     "text": [
      "+-----------------------------------------------------------------------------------------------------------------------------------------------------------------------------------------------------------------------+\n",
      "| n                                                                                                                                                                                                                     |\n",
      "+-----------------------------------------------------------------------------------------------------------------------------------------------------------------------------------------------------------------------+\n",
      "| (:Listing {bedrooms: 1, listing_id: \"72635\", availability_365: 240, price: 300.0, accommodates: 6, name: \"3 Private Bedrooms, SW Austin\", property_type: \"House\", bathrooms: 2})                                      |\n",
      "| (:Listing {bedrooms: 1, cleaning_fee: 75.0, weekly_price: 600.0, listing_id: \"5386323\", availability_365: 364, price: 99.0, accommodates: 2, name: \"Cricket Trailer\", property_type: \"Camper/RV\", bathrooms: 0})      |\n",
      "| (:Listing {bedrooms: 1, listing_id: \"8826517\", availability_365: 365, price: 100.0, accommodates: 2, name: \"Private room 1 in South Austin\", property_type: \"House\", bathrooms: 1})                                   |\n",
      "| (:Listing {bedrooms: 1, listing_id: \"8828616\", availability_365: 365, price: 100.0, accommodates: 2, name: \"Private room 2 in South Austin\", property_type: \"House\", bathrooms: 1})                                   |\n",
      "| (:Listing {bedrooms: 3, cleaning_fee: 125.0, listing_id: \"8536913\", availability_365: 358, price: 599.0, accommodates: 6, name: \"Brand-New 3BR Austin Home\", property_type: \"House\", bathrooms: 2})                   |\n",
      "| (:Listing {bedrooms: 1, listing_id: \"8542056\", availability_365: 365, price: 100.0, accommodates: 2, name: \"Private room & Bathroom.\", property_type: \"House\", bathrooms: 1})                                         |\n",
      "| (:Listing {bedrooms: 1, cleaning_fee: 15.0, listing_id: \"6385948\", availability_365: 301, price: 54.0, accommodates: 2, name: \"S. Austin, convenient to MoPac\", property_type: \"Bed & Breakfast\", bathrooms: 1})      |\n",
      "| (:Listing {bedrooms: 1, cleaning_fee: 25.0, listing_id: \"8486890\", availability_365: 312, price: 40.0, accommodates: 2, name: \"Cozy private room 15 mins frm dtwn\", property_type: \"House\", bathrooms: 1})            |\n",
      "| (:Listing {bedrooms: 1, weekly_price: 750.0, listing_id: \"8633580\", availability_365: 355, price: 130.0, accommodates: 6, name: \"Room to rent\", property_type: \"House\", bathrooms: 1})                                |\n",
      "| (:Listing {bedrooms: 1, cleaning_fee: 10.0, weekly_price: 275.0, listing_id: \"5293632\", availability_365: 364, price: 44.0, accommodates: 2, name: \"Southwest Austin Retreat\", property_type: \"House\", bathrooms: 1}) |\n",
      "+-----------------------------------------------------------------------------------------------------------------------------------------------------------------------------------------------------------------------+\n",
      "\n",
      "10 rows\n",
      "ready to start consuming query after 2 ms, results consumed after another 1 ms\n"
     ]
    }
   ],
   "source": [
    "!{CONNECT} \"MATCH (n) RETURN n LIMIT 10\""
   ]
  },
  {
   "cell_type": "code",
   "execution_count": 21,
   "id": "0f369ceb",
   "metadata": {},
   "outputs": [
    {
     "name": "stdout",
     "output_type": "stream",
     "text": [
      "+-------------------+\n",
      "| type(r)           |\n",
      "+-------------------+\n",
      "| \"IN_NEIGHBORHOOD\" |\n",
      "| \"HAS\"             |\n",
      "| \"HAS\"             |\n",
      "| \"HAS\"             |\n",
      "| \"HAS\"             |\n",
      "| \"HAS\"             |\n",
      "| \"HAS\"             |\n",
      "| \"HAS\"             |\n",
      "| \"HAS\"             |\n",
      "| \"HAS\"             |\n",
      "+-------------------+\n",
      "\n",
      "10 rows\n",
      "ready to start consuming query after 1 ms, results consumed after another 1 ms\n"
     ]
    }
   ],
   "source": [
    "!{CONNECT} \"MATCH ()-[r]->() RETURN type(r) LIMIT 10\""
   ]
  },
  {
   "cell_type": "markdown",
   "id": "5e1b1f64",
   "metadata": {},
   "source": [
    "Q1. How many hosts are located in \"Austin, Texas, United States\"?"
   ]
  },
  {
   "cell_type": "code",
   "execution_count": 32,
   "id": "4e75d367",
   "metadata": {},
   "outputs": [
    {
     "name": "stdout",
     "output_type": "stream",
     "text": [
      "+----------+\n",
      "| count(m) |\n",
      "+----------+\n",
      "| 3774     |\n",
      "+----------+\n",
      "\n",
      "1 row\n",
      "ready to start consuming query after 38 ms, results consumed after another 19 ms\n"
     ]
    }
   ],
   "source": [
    "!{CONNECT} \"MATCH (m:Host {{location: 'Austin, Texas, United States'}}) RETURN count(m) LIMIT 10\""
   ]
  },
  {
   "cell_type": "markdown",
   "id": "f66c6960",
   "metadata": {},
   "source": [
    "Q2. Which listings does host_id = \"4641823\" have? Return the listing name, property_type,\n",
    "price, and availability_365 sorted by price. Limit the results to 10."
   ]
  },
  {
   "cell_type": "code",
   "execution_count": 13,
   "id": "06990ea0",
   "metadata": {},
   "outputs": [
    {
     "name": "stdout",
     "output_type": "stream",
     "text": [
      "+----------------------------------------------------------------------------------------+\n",
      "| m.name                                | m.property_type | m.price | m.availability_365 |\n",
      "+----------------------------------------------------------------------------------------+\n",
      "| \"1BR Convenient Austin Condo \"        | \"Apartment\"     | 93.0    | 354                |\n",
      "| \"1BR Inviting Downtown Condo, Pool\"   | \"Apartment\"     | 99.0    | 335                |\n",
      "| \"2BR/1.5BA Charming House Off SoCo\"   | \"House\"         | 110.0   | 357                |\n",
      "| \"2BR Prime East-Side Downtown\"        | \"House\"         | 121.0   | 341                |\n",
      "| \"1BR SoCo Treehouse Studio\"           | \"House\"         | 129.0   | 327                |\n",
      "| \"1BR/1.5BA East 6th, Colorful 2Story\" | \"Apartment\"     | 134.0   | 344                |\n",
      "| \"3BR Prestigious Home Travis Heights\" | \"House\"         | 138.0   | 0                  |\n",
      "| \"1BR/1.5BA Perfectly Located Casita\"  | \"House\"         | 140.0   | 351                |\n",
      "| \"3BR/2BA Inviting Retreat off SoCo\"   | \"House\"         | 145.0   | 353                |\n",
      "| \"2BR/2BA Austin Soul Off Soco!\"       | \"House\"         | 149.0   | 334                |\n",
      "+----------------------------------------------------------------------------------------+\n",
      "\n",
      "10 rows\n",
      "ready to start consuming query after 85 ms, results consumed after another 11 ms\n"
     ]
    }
   ],
   "source": [
    "!{CONNECT} \"MATCH (p1:Host {{host_id:'4641823'}})-[:HOSTS]->(m) RETURN m.name, m.property_type , m.price, m.availability_365 ORDER BY m.price LIMIT 10\""
   ]
  },
  {
   "cell_type": "markdown",
   "id": "3c9d570f",
   "metadata": {},
   "source": [
    "Q3. Which users wrote a review for listing_id = \"5293632\"? Return the user’s id and name\n",
    "sorted alphabetically by name. Limit the results to 10."
   ]
  },
  {
   "cell_type": "code",
   "execution_count": 29,
   "id": "fc891e1b",
   "metadata": {},
   "outputs": [
    {
     "name": "stdout",
     "output_type": "stream",
     "text": [
      "+--------------------------------+\n",
      "| p1.name           | p1.user_id |\n",
      "+--------------------------------+\n",
      "| \"Annie\"           | \"18286390\" |\n",
      "| \"Carole\"          | \"30193020\" |\n",
      "| \"Cory\"            | \"16497582\" |\n",
      "| \"Craig And Trina\" | \"35022795\" |\n",
      "| \"Dianne\"          | \"13281665\" |\n",
      "| \"Hannah\"          | \"29601600\" |\n",
      "| \"Jacob\"           | \"11940539\" |\n",
      "| \"Jessie\"          | \"3213433\"  |\n",
      "| \"Johannes\"        | \"41722221\" |\n",
      "| \"Ju-Ju\"           | \"28480571\" |\n",
      "+--------------------------------+\n",
      "\n",
      "10 rows\n",
      "ready to start consuming query after 67 ms, results consumed after another 2 ms\n"
     ]
    }
   ],
   "source": [
    "!{CONNECT} \"MATCH (p1:User)-[:WROTE]->(m)-[:REVIEWS]->(l:Listing {{listing_id: '5293632'}}) return p1.name, p1.user_id ORDER BY p1.name LIMIT 10\""
   ]
  },
  {
   "cell_type": "markdown",
   "id": "105ae575",
   "metadata": {},
   "source": [
    "Q4. Which users wrote a review for any listing which has the amenities \"Washer\" and \"Dryer\"?\n",
    "Return the user’s id and name sorted alphabetically by name. Limit the results to 10."
   ]
  },
  {
   "cell_type": "code",
   "execution_count": 82,
   "id": "1bc655eb",
   "metadata": {},
   "outputs": [
    {
     "name": "stdout",
     "output_type": "stream",
     "text": [
      "+-------------------------------------------+\n",
      "| p1.name   | p1.user_id | a.name           |\n",
      "+-------------------------------------------+\n",
      "| \"Andrew\"  | \"1627563\"  | \"Washer / Dryer\" |\n",
      "| \"Bryan\"   | \"1631432\"  | \"Washer / Dryer\" |\n",
      "| \"Cindy\"   | \"2784203\"  | \"Washer / Dryer\" |\n",
      "| \"Henrik\"  | \"416470\"   | \"Washer / Dryer\" |\n",
      "| \"Scott\"   | \"386269\"   | \"Washer / Dryer\" |\n",
      "| \"Thaniya\" | \"430392\"   | \"Washer / Dryer\" |\n",
      "| \"Warren\"  | \"316879\"   | \"Washer / Dryer\" |\n",
      "+-------------------------------------------+\n",
      "\n",
      "7 rows\n",
      "ready to start consuming query after 49 ms, results consumed after another 1 ms\n"
     ]
    }
   ],
   "source": [
    "!{CONNECT} \"MATCH (p1:User)-[:WROTE]->(m)-[:REVIEWS]->(l)-[:HAS]->(a:Amenity {{name: 'Washer / Dryer'}})  return p1.name, p1.user_id, a.name ORDER BY p1.name LIMIT 10\""
   ]
  },
  {
   "cell_type": "markdown",
   "id": "6f302dbf",
   "metadata": {},
   "source": [
    "Q5. Which listings have 3 bedrooms and are located in the Clarksville neighborhood? Return\n",
    "the listing name, property_type, price, and availability_365 sorted by price. Limit the results\n",
    "to 5.\n"
   ]
  },
  {
   "cell_type": "code",
   "execution_count": 71,
   "id": "6ab7963c",
   "metadata": {},
   "outputs": [
    {
     "name": "stdout",
     "output_type": "stream",
     "text": [
      "+----------------------------------------------------------------------------------------+\n",
      "| l.name                                | l.property_type | l.price | l.availability_365 |\n",
      "+----------------------------------------------------------------------------------------+\n",
      "| \"3BR/2.5BA Exquisite Townhouse\"       | \"House\"         | 222.0   | 358                |\n",
      "| \"3BR/2.5BA Tarrytown Duplex, Austin!\" | \"House\"         | 249.0   | 336                |\n",
      "| \"Austin downtown hideaway\"            | \"House\"         | 249.0   | 364                |\n",
      "| \"3BD Luxury Cottage by Lake Austin\"   | \"House\"         | 290.0   | 309                |\n",
      "| \"Entire Adorable Downtown House\"      | \"House\"         | 295.0   | 309                |\n",
      "+----------------------------------------------------------------------------------------+\n",
      "\n",
      "5 rows\n",
      "ready to start consuming query after 49 ms, results consumed after another 2 ms\n"
     ]
    }
   ],
   "source": [
    "!{CONNECT} \"MATCH (l:Listing {{bedrooms: 3}}) -[IN_NEIGHBORHOOD]-> (n:Neighborhood  {{name: 'Clarksville'}}) return l.name, l.property_type, l.price, l.availability_365 ORDER BY l.price LIMIT 5\""
   ]
  },
  {
   "cell_type": "markdown",
   "id": "d7c343a7",
   "metadata": {},
   "source": [
    "Q6. Which amenities are the most common? Return the name of the amenity and its frequency.\n",
    "Sort the results by count in descending order. Limit the results to 5."
   ]
  },
  {
   "cell_type": "code",
   "execution_count": 80,
   "id": "28561921",
   "metadata": {},
   "outputs": [
    {
     "name": "stdout",
     "output_type": "stream",
     "text": [
      "+-------------------------------------+\n",
      "| a.name                     | totals |\n",
      "+-------------------------------------+\n",
      "| \"Air Conditioning\"         | 5615   |\n",
      "| \"Wireless Internet\"        | 5479   |\n",
      "| \"Heating\"                  | 5440   |\n",
      "| \"Kitchen\"                  | 5400   |\n",
      "| \"Free Parking on Premises\" | 5123   |\n",
      "+-------------------------------------+\n",
      "\n",
      "5 rows\n",
      "ready to start consuming query after 34 ms, results consumed after another 116 ms\n"
     ]
    }
   ],
   "source": [
    "!{CONNECT} \"MATCH (l:Listing) -[:HAS]-> (a:Amenity) return distinct a.name, count(a.name) as totals ORDER BY -totals LIMIT 5\""
   ]
  },
  {
   "cell_type": "markdown",
   "id": "289c94e3",
   "metadata": {},
   "source": [
    "Q7. Which neighborhoods have the highest number of listings? Return the neighborhood’s\n",
    "name and zip code (neighborhood_id) along with the number of listings they have sorted\n",
    "by the number of listings in descending order. Limit the results to 5."
   ]
  },
  {
   "cell_type": "code",
   "execution_count": 103,
   "id": "37fcc7de",
   "metadata": {},
   "outputs": [
    {
     "name": "stdout",
     "output_type": "stream",
     "text": [
      "+-------------------------------------+\n",
      "| zipcode | totals | name             |\n",
      "+-------------------------------------+\n",
      "| \"78704\" | 1601   | NULL             |\n",
      "| \"78702\" | 797    | NULL             |\n",
      "| \"78703\" | 419    | \"Clarksville\"    |\n",
      "| \"78741\" | 414    | \"East Riverside\" |\n",
      "| \"78745\" | 328    | NULL             |\n",
      "+-------------------------------------+\n",
      "\n",
      "5 rows\n",
      "ready to start consuming query after 28 ms, results consumed after another 9 ms\n"
     ]
    }
   ],
   "source": [
    "!{CONNECT} \"MATCH (l:Listing) -[:IN_NEIGHBORHOOD]-> (n:Neighborhood) return distinct n.neighborhood_id as zipcode, count(n.neighborhood_id) as totals, n.name as name  ORDER BY -totals LIMIT 5\""
   ]
  }
 ],
 "metadata": {
  "environment": {
   "name": "common-cpu.m78",
   "type": "gcloud",
   "uri": "gcr.io/deeplearning-platform-release/base-cpu:m78"
  },
  "kernelspec": {
   "display_name": "Python 3",
   "language": "python",
   "name": "python3"
  },
  "language_info": {
   "codemirror_mode": {
    "name": "ipython",
    "version": 3
   },
   "file_extension": ".py",
   "mimetype": "text/x-python",
   "name": "python",
   "nbconvert_exporter": "python",
   "pygments_lexer": "ipython3",
   "version": "3.7.10"
  }
 },
 "nbformat": 4,
 "nbformat_minor": 5
}
